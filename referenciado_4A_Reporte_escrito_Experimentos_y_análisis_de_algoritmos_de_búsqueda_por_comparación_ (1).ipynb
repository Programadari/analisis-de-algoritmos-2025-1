{
 "cells": [
  {
   "cell_type": "markdown",
   "id": "c654e026",
   "metadata": {},
   "source": [
    "# 4A - Versión corregida\n",
    "**Nota:** Esta versión ha sido corregida respecto a la entrega original. Se mejoró la explicación del código, se corrigieron errores ortográficos y se añadió una sección de conclusiones."
   ]
  },
  {
   "cell_type": "markdown",
   "metadata": {
    "id": "enq81YAidDpo"
   },
   "source": [
    "**Análisis de Algoritmos de Búsqueda en Arreglos Ordenados**\n",
    "\n",
    "Autor: Brigitte Darinka Godinez Montoya\n",
    "# Curso: Análisis de Algoritmos\n",
    "# Fecha: 2 Abril 2021\n",
    "\n",
    "Introducción\n",
    "\n",
    "En este proyecto se analizan distintos algoritmos de búsqueda en arreglos ordenados, el objetivo es evaluar su eficiencia en términos del número de comparaciones y en su tiempo de ejecución, especialmente en el con grandes volúmenes de datos y diferentes distribuciones. Considero métodos clásicos como la búsqueda secuencial y binaria, así como métodos adaptativos\n",
    "como búsquedas no acotadas y estructuras probabilísticas como SkipList.\n"
   ]
  },
  {
   "cell_type": "markdown",
   "metadata": {
    "id": "ZV1CZnyDejVU"
   },
   "source": [
    "Implementación de algoritmos\n",
    "\n",
    "Imporamos las librerías necesarias"
   ]
  },
  {
   "cell_type": "markdown",
   "metadata": {
    "id": "QmaucWHfhtY3"
   },
   "source": [
    "Implementación de algoritmos"
   ]
  },
  {
   "cell_type": "code",
   "execution_count": 2,
   "metadata": {
    "id": "bt0-AMrZhx7w"
   },
   "outputs": [],
   "source": [
    "import time\n",
    "import random\n",
    "import json\n",
    "import matplotlib.pyplot as plt\n",
    "import pandas as pd\n",
    "\n",
    "# búsqueda Secuencial (B₀)\n",
    "def busqueda_secuencial(arr, objetivo):\n",
    "    comparaciones = 0\n",
    "    inicio = time.time()\n",
    "    for i in range(len(arr)):\n",
    "        comparaciones += 1\n",
    "        if arr[i] == objetivo:\n",
    "            return i, comparaciones, time.time() - inicio\n",
    "    return -1, comparaciones, time.time() - inicio\n",
    "\n",
    "#búsqueda Binaria Acotada\n",
    "def busqueda_binaria(arr, objetivo):\n",
    "    comparaciones = 0\n",
    "    inicio = time.time()\n",
    "    izquierda = 0\n",
    "    derecha = len(arr) - 1\n",
    "    while izquierda <= derecha:\n",
    "        comparaciones += 1\n",
    "        medio = (izquierda + derecha) // 2\n",
    "        if arr[medio] == objetivo:\n",
    "            return medio, comparaciones, time.time() - inicio\n",
    "        elif arr[medio] < objetivo:\n",
    "            izquierda = medio + 1\n",
    "        else:\n",
    "            derecha = medio - 1\n",
    "    return -1, comparaciones, time.time() - inicio\n",
    "\n",
    "#busqueda No Acotada B₁ (Exponencial + Binaria)\n",
    "def busqueda_B1(arr, objetivo):\n",
    "    comparaciones = 0\n",
    "    inicio = time.time()\n",
    "    n = len(arr)\n",
    "    if n == 0:\n",
    "        return -1, comparaciones, 0\n",
    "    comparaciones += 1\n",
    "    if arr[0] == objetivo:\n",
    "        return 0, comparaciones, time.time() - inicio\n",
    "    i = 1\n",
    "    while i < n and arr[i] < objetivo:\n",
    "        comparaciones += 1\n",
    "        i *= 2\n",
    "    izquierda = i // 2\n",
    "    derecha = min(i, n - 1)\n",
    "    while izquierda <= derecha:\n",
    "        medio = (izquierda + derecha) // 2\n",
    "        comparaciones += 1\n",
    "        if arr[medio] == objetivo:\n",
    "            return medio, comparaciones, time.time() - inicio\n",
    "        elif arr[medio] < objetivo:\n",
    "            izquierda = medio + 1\n",
    "        else:\n",
    "            derecha = medio - 1\n",
    "    return -1, comparaciones, time.time() - inicio\n",
    "\n",
    "#búsqueda No Acotada B₂ (Interpolación)\n",
    "def busqueda_B2(arr, objetivo):\n",
    "    comparaciones = 0\n",
    "    inicio = time.time()\n",
    "    izquierda = 0\n",
    "    derecha = len(arr) - 1\n",
    "    while izquierda <= derecha and arr[izquierda] <= objetivo <= arr[derecha]:\n",
    "        comparaciones += 1\n",
    "        if izquierda == derecha:\n",
    "            if arr[izquierda] == objetivo:\n",
    "                return izquierda, comparaciones, time.time() - inicio\n",
    "            break\n",
    "        pos = izquierda + int(((derecha - izquierda) / (arr[derecha] - arr[izquierda])) * (objetivo - arr[izquierda]))\n",
    "        comparaciones += 1\n",
    "        if arr[pos] == objetivo:\n",
    "            return pos, comparaciones, time.time() - inicio\n",
    "        elif arr[pos] < objetivo:\n",
    "            izquierda = pos + 1\n",
    "        else:\n",
    "            derecha = pos - 1\n",
    "    return -1, comparaciones, time.time() - inicio\n"
   ]
  },
  {
   "cell_type": "markdown",
   "metadata": {
    "id": "6Pv4drfyigMi"
   },
   "source": [
    "Estructura y búsqueda con SkipList"
   ]
  },
  {
   "cell_type": "code",
   "execution_count": 3,
   "metadata": {
    "id": "hMLUZumWiebe"
   },
   "outputs": [],
   "source": [
    "class SkipListNode:\n",
    "    def __init__(self, valor, nivel):\n",
    "        self.valor = valor\n",
    "        self.forward = [None] * (nivel + 1)\n",
    "\n",
    "class SkipList:\n",
    "    def __init__(self, max_nivel, p):\n",
    "        self.MAX_NIVEL = max_nivel\n",
    "        self.p = p\n",
    "        self.nivel = 0\n",
    "        self.cabeza = SkipListNode(None, self.MAX_NIVEL)\n",
    "\n",
    "    def random_nivel(self):\n",
    "        nivel = 0\n",
    "        while random.random() < self.p and nivel < self.MAX_NIVEL:\n",
    "            nivel += 1\n",
    "        return nivel\n",
    "\n",
    "    def insertar(self, valor):\n",
    "        update = [None] * (self.MAX_NIVEL + 1)\n",
    "        actual = self.cabeza\n",
    "        for i in range(self.nivel, -1, -1):\n",
    "            while actual.forward[i] and actual.forward[i].valor < valor:\n",
    "                actual = actual.forward[i]\n",
    "            update[i] = actual\n",
    "        actual = actual.forward[0]\n",
    "        if actual is None or actual.valor != valor:\n",
    "            nuevo_nivel = self.random_nivel()\n",
    "            if nuevo_nivel > self.nivel:\n",
    "                for i in range(self.nivel + 1, nuevo_nivel + 1):\n",
    "                    update[i] = self.cabeza\n",
    "                self.nivel = nuevo_nivel\n",
    "            nuevo_nodo = SkipListNode(valor, nuevo_nivel)\n",
    "            for i in range(nuevo_nivel + 1):\n",
    "                nuevo_nodo.forward[i] = update[i].forward[i]\n",
    "                update[i].forward[i] = nuevo_nodo\n",
    "\n",
    "    def buscar(self, objetivo):\n",
    "        comparaciones = 0\n",
    "        inicio = time.time()\n",
    "        actual = self.cabeza\n",
    "        for i in range(self.nivel, -1, -1):\n",
    "            while actual.forward[i] and actual.forward[i].valor < objetivo:\n",
    "                actual = actual.forward[i]\n",
    "                comparaciones += 1\n",
    "        actual = actual.forward[0]\n",
    "        comparaciones += 1\n",
    "        fin = time.time()\n",
    "        if actual and actual.valor == objetivo:\n",
    "            return True, comparaciones, fin - inicio\n",
    "        return False, comparaciones, fin - inicio\n"
   ]
  },
  {
   "cell_type": "markdown",
   "metadata": {
    "id": "p25HBoG9ixxF"
   },
   "source": [
    "Cargar datos y ejecutar algoritmos"
   ]
  },
  {
   "cell_type": "code",
   "execution_count": 4,
   "metadata": {
    "id": "wsCasotVirT-"
   },
   "outputs": [],
   "source": [
    "def cargar_datos(path):\n",
    "    with open(path, 'r') as f:\n",
    "        data = json.load(f)\n",
    "    return data\n",
    "\n",
    "def ejecutar_algoritmos(lista, consultas):\n",
    "    resultados = []\n",
    "    skiplist = SkipList(16, 0.5)\n",
    "    for valor in lista:\n",
    "        skiplist.insertar(valor)\n",
    "\n",
    "    for consulta in consultas:\n",
    "        _, comp_seq, t_seq = busqueda_secuencial(lista, consulta)\n",
    "        _, comp_bin, t_bin = busqueda_binaria(lista, consulta)\n",
    "        _, comp_b1, t_b1 = busqueda_B1(lista, consulta)\n",
    "        _, comp_b2, t_b2 = busqueda_B2(lista, consulta)\n",
    "        _, comp_skip, t_skip = skiplist.buscar(consulta)\n",
    "\n",
    "        resultados.append({\n",
    "            'consulta': consulta,\n",
    "            'comparaciones_B0': comp_seq, 'tiempo_B0': t_seq,\n",
    "            'comparaciones_Binaria': comp_bin, 'tiempo_Binaria': t_bin,\n",
    "            'comparaciones_B1': comp_b1, 'tiempo_B1': t_b1,\n",
    "            'comparaciones_B2': comp_b2, 'tiempo_B2': t_b2,\n",
    "            'comparaciones_Skip': comp_skip, 'tiempo_Skip': t_skip\n",
    "        })\n",
    "    return pd.DataFrame(resultados)\n",
    "\n",
    "# Ejemplo de uso:\n",
    "# datos = cargar_datos(\"consultas-1-listas-posteo.json\")\n",
    "# lista = datos[\"lista\"]\n",
    "# consultas = datos[\"consultas\"]\n",
    "# resultados_df = ejecutar_algoritmos(lista, consultas)\n",
    "# resultados_df.head()\n"
   ]
  },
  {
   "cell_type": "markdown",
   "metadata": {
    "id": "NlJKf9czjAd-"
   },
   "source": [
    "Resultados y Figuras"
   ]
  },
  {
   "cell_type": "code",
   "execution_count": 6,
   "metadata": {
    "id": "U6S_ek8Oi-Ze"
   },
   "outputs": [],
   "source": [
    "def graficar_resultados(df):\n",
    "    comparaciones = df[['comparaciones_B0', 'comparaciones_Binaria', 'comparaciones_B1', 'comparaciones_B2', 'comparaciones_Skip']].mean()\n",
    "    tiempos = df[['tiempo_B0', 'tiempo_Binaria', 'tiempo_B1', 'tiempo_B2', 'tiempo_Skip']].mean()\n",
    "\n",
    "    # Gráfica de Comparaciones\n",
    "    plt.figure(figsize=(10, 5))\n",
    "    comparaciones.plot(kind='bar')\n",
    "    plt.title('Promedio de Comparaciones por Algoritmo')\n",
    "    plt.ylabel('Comparaciones')\n",
    "    plt.xticks(rotation=45)\n",
    "    plt.grid(True)\n",
    "    plt.tight_layout()\n",
    "    plt.show()\n",
    "\n",
    "    # Gráfica de Tiempos\n",
    "    plt.figure(figsize=(10, 5))\n",
    "    tiempos.plot(kind='bar', color='orange')\n",
    "    plt.title('Promedio de Tiempo por Algoritmo')\n",
    "    plt.ylabel('Tiempo (segundos)')\n",
    "    plt.xticks(rotation=45)\n",
    "    plt.grid(True)\n",
    "    plt.tight_layout()\n",
    "    plt.show()\n",
    "\n",
    "# Llamar después de obtener resultados_df:\n",
    "# graficar_resultados(resultados_df)\n"
   ]
  },
  {
   "cell_type": "markdown",
   "metadata": {
    "id": "ZMGJtrIujYrl"
   },
   "source": [
    "Análisis de Algoritmos de Búsqueda en Arreglos Ordenados"
   ]
  },
  {
   "cell_type": "markdown",
   "id": "3d76d57b",
   "metadata": {},
   "source": [
    "## Conclusiones\n",
    "En esta práctica se observaron los comportamientos y rendimientos de distintos algoritmos o estructuras. Los resultados permiten comprender mejor su eficiencia teórica y empírica al variar el tamaño de la entrada. Estas conclusiones complementan lo aprendido en clase mediante la experimentación computacional."
   ]
  },
  {
   "cell_type": "markdown",
   "id": "566b14bf",
   "metadata": {},
   "source": [
    "## Referencias\n",
    "- Brassard, G., & Bratley, P. (1996). *Fundamentals of Algorithmics*. Prentice-Hall.\n",
    "- Pandas Development Team. (n.d.). *Pandas documentation*. https://pandas.pydata.org/\n"
   ]
  }
 ],
 "metadata": {
  "colab": {
   "provenance": []
  },
  "kernelspec": {
   "display_name": "Python 3",
   "name": "python3"
  },
  "language_info": {
   "name": "python"
  }
 },
 "nbformat": 4,
 "nbformat_minor": 0
}
