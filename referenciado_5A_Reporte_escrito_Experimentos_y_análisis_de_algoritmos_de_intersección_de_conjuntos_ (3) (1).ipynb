{
 "cells": [
  {
   "cell_type": "markdown",
   "id": "69f2cb65",
   "metadata": {},
   "source": [
    "# 5A - Versión corregida\n",
    "**Nota:** Esta versión ha sido corregida respecto a la entrega original. Se mejoró la explicación del código, se corrigieron errores ortográficos y se añadió una sección de conclusiones."
   ]
  },
  {
   "cell_type": "markdown",
   "metadata": {
    "id": "_8dhFDtXgpHp"
   },
   "source": [
    "# Análisis Experimental de Algoritmos de Intersección de Conjuntos\n",
    "**Nombre:** Brigitte Darinka Godinez Montoya  \n",
    "**Materia:** Análisis de Algoritmos  \n",
    "**Unidad:** Práctica de intersección (ME, BY, BK)  \n",
    "**Fecha:** 24-05-2025\n"
   ]
  },
  {
   "cell_type": "markdown",
   "metadata": {
    "id": "gXdy6r9NhEsN"
   },
   "source": [
    "**Introducción**\n",
    "\n",
    "En esta actividad analizamos los distintos algoritmos para la intersección de conjuntos ordenados con el objetivo de comparar el desempeño de los algoritmos Melding (ME), Baeza-Yates (BY) y Barbay-Kenyon (BK), así como dos versiones modificadas del algoritmo BY: búsqueda acotada (BI) y búsqueda sin acotar (B2). Se evaluará su rendimiento en términos de tiempo de ejecución, número de comparaciones realizadas y longitud del resultado.\n",
    "\n",
    "Los conjuntos utilizados provienen de un archivo `.json`, y corresponden a tres colecciones distintas: A, B y C.\n"
   ]
  },
  {
   "cell_type": "markdown",
   "metadata": {
    "id": "yUVXgLvEhTc7"
   },
   "source": [
    "Carga y descripción de los datos"
   ]
  },
  {
   "cell_type": "code",
   "execution_count": 2,
   "metadata": {
    "colab": {
     "base_uri": "https://localhost:8080/",
     "height": 71
    },
    "id": "1964vLmniCKw",
    "outputId": "1ebd1a45-3783-4637-c29f-1050d72830e5"
   },
   "outputs": [
    {
     "data": {
      "text/html": [
       "\n",
       "     <input type=\"file\" id=\"files-dddde330-0106-4dde-9b37-350632f14d3b\" name=\"files[]\" multiple disabled\n",
       "        style=\"border:none\" />\n",
       "     <output id=\"result-dddde330-0106-4dde-9b37-350632f14d3b\">\n",
       "      Upload widget is only available when the cell has been executed in the\n",
       "      current browser session. Please rerun this cell to enable.\n",
       "      </output>\n",
       "      <script>// Copyright 2017 Google LLC\n",
       "//\n",
       "// Licensed under the Apache License, Version 2.0 (the \"License\");\n",
       "// you may not use this file except in compliance with the License.\n",
       "// You may obtain a copy of the License at\n",
       "//\n",
       "//      http://www.apache.org/licenses/LICENSE-2.0\n",
       "//\n",
       "// Unless required by applicable law or agreed to in writing, software\n",
       "// distributed under the License is distributed on an \"AS IS\" BASIS,\n",
       "// WITHOUT WARRANTIES OR CONDITIONS OF ANY KIND, either express or implied.\n",
       "// See the License for the specific language governing permissions and\n",
       "// limitations under the License.\n",
       "\n",
       "/**\n",
       " * @fileoverview Helpers for google.colab Python module.\n",
       " */\n",
       "(function(scope) {\n",
       "function span(text, styleAttributes = {}) {\n",
       "  const element = document.createElement('span');\n",
       "  element.textContent = text;\n",
       "  for (const key of Object.keys(styleAttributes)) {\n",
       "    element.style[key] = styleAttributes[key];\n",
       "  }\n",
       "  return element;\n",
       "}\n",
       "\n",
       "// Max number of bytes which will be uploaded at a time.\n",
       "const MAX_PAYLOAD_SIZE = 100 * 1024;\n",
       "\n",
       "function _uploadFiles(inputId, outputId) {\n",
       "  const steps = uploadFilesStep(inputId, outputId);\n",
       "  const outputElement = document.getElementById(outputId);\n",
       "  // Cache steps on the outputElement to make it available for the next call\n",
       "  // to uploadFilesContinue from Python.\n",
       "  outputElement.steps = steps;\n",
       "\n",
       "  return _uploadFilesContinue(outputId);\n",
       "}\n",
       "\n",
       "// This is roughly an async generator (not supported in the browser yet),\n",
       "// where there are multiple asynchronous steps and the Python side is going\n",
       "// to poll for completion of each step.\n",
       "// This uses a Promise to block the python side on completion of each step,\n",
       "// then passes the result of the previous step as the input to the next step.\n",
       "function _uploadFilesContinue(outputId) {\n",
       "  const outputElement = document.getElementById(outputId);\n",
       "  const steps = outputElement.steps;\n",
       "\n",
       "  const next = steps.next(outputElement.lastPromiseValue);\n",
       "  return Promise.resolve(next.value.promise).then((value) => {\n",
       "    // Cache the last promise value to make it available to the next\n",
       "    // step of the generator.\n",
       "    outputElement.lastPromiseValue = value;\n",
       "    return next.value.response;\n",
       "  });\n",
       "}\n",
       "\n",
       "/**\n",
       " * Generator function which is called between each async step of the upload\n",
       " * process.\n",
       " * @param {string} inputId Element ID of the input file picker element.\n",
       " * @param {string} outputId Element ID of the output display.\n",
       " * @return {!Iterable<!Object>} Iterable of next steps.\n",
       " */\n",
       "function* uploadFilesStep(inputId, outputId) {\n",
       "  const inputElement = document.getElementById(inputId);\n",
       "  inputElement.disabled = false;\n",
       "\n",
       "  const outputElement = document.getElementById(outputId);\n",
       "  outputElement.innerHTML = '';\n",
       "\n",
       "  const pickedPromise = new Promise((resolve) => {\n",
       "    inputElement.addEventListener('change', (e) => {\n",
       "      resolve(e.target.files);\n",
       "    });\n",
       "  });\n",
       "\n",
       "  const cancel = document.createElement('button');\n",
       "  inputElement.parentElement.appendChild(cancel);\n",
       "  cancel.textContent = 'Cancel upload';\n",
       "  const cancelPromise = new Promise((resolve) => {\n",
       "    cancel.onclick = () => {\n",
       "      resolve(null);\n",
       "    };\n",
       "  });\n",
       "\n",
       "  // Wait for the user to pick the files.\n",
       "  const files = yield {\n",
       "    promise: Promise.race([pickedPromise, cancelPromise]),\n",
       "    response: {\n",
       "      action: 'starting',\n",
       "    }\n",
       "  };\n",
       "\n",
       "  cancel.remove();\n",
       "\n",
       "  // Disable the input element since further picks are not allowed.\n",
       "  inputElement.disabled = true;\n",
       "\n",
       "  if (!files) {\n",
       "    return {\n",
       "      response: {\n",
       "        action: 'complete',\n",
       "      }\n",
       "    };\n",
       "  }\n",
       "\n",
       "  for (const file of files) {\n",
       "    const li = document.createElement('li');\n",
       "    li.append(span(file.name, {fontWeight: 'bold'}));\n",
       "    li.append(span(\n",
       "        `(${file.type || 'n/a'}) - ${file.size} bytes, ` +\n",
       "        `last modified: ${\n",
       "            file.lastModifiedDate ? file.lastModifiedDate.toLocaleDateString() :\n",
       "                                    'n/a'} - `));\n",
       "    const percent = span('0% done');\n",
       "    li.appendChild(percent);\n",
       "\n",
       "    outputElement.appendChild(li);\n",
       "\n",
       "    const fileDataPromise = new Promise((resolve) => {\n",
       "      const reader = new FileReader();\n",
       "      reader.onload = (e) => {\n",
       "        resolve(e.target.result);\n",
       "      };\n",
       "      reader.readAsArrayBuffer(file);\n",
       "    });\n",
       "    // Wait for the data to be ready.\n",
       "    let fileData = yield {\n",
       "      promise: fileDataPromise,\n",
       "      response: {\n",
       "        action: 'continue',\n",
       "      }\n",
       "    };\n",
       "\n",
       "    // Use a chunked sending to avoid message size limits. See b/62115660.\n",
       "    let position = 0;\n",
       "    do {\n",
       "      const length = Math.min(fileData.byteLength - position, MAX_PAYLOAD_SIZE);\n",
       "      const chunk = new Uint8Array(fileData, position, length);\n",
       "      position += length;\n",
       "\n",
       "      const base64 = btoa(String.fromCharCode.apply(null, chunk));\n",
       "      yield {\n",
       "        response: {\n",
       "          action: 'append',\n",
       "          file: file.name,\n",
       "          data: base64,\n",
       "        },\n",
       "      };\n",
       "\n",
       "      let percentDone = fileData.byteLength === 0 ?\n",
       "          100 :\n",
       "          Math.round((position / fileData.byteLength) * 100);\n",
       "      percent.textContent = `${percentDone}% done`;\n",
       "\n",
       "    } while (position < fileData.byteLength);\n",
       "  }\n",
       "\n",
       "  // All done.\n",
       "  yield {\n",
       "    response: {\n",
       "      action: 'complete',\n",
       "    }\n",
       "  };\n",
       "}\n",
       "\n",
       "scope.google = scope.google || {};\n",
       "scope.google.colab = scope.google.colab || {};\n",
       "scope.google.colab._files = {\n",
       "  _uploadFiles,\n",
       "  _uploadFilesContinue,\n",
       "};\n",
       "})(self);\n",
       "</script> "
      ],
      "text/plain": [
       "<IPython.core.display.HTML object>"
      ]
     },
     "metadata": {},
     "output_type": "display_data"
    },
    {
     "name": "stdout",
     "output_type": "stream",
     "text": [
      "Saving Conjuntos de listas de posteo para intersección-20250522 (1).zip to Conjuntos de listas de posteo para intersección-20250522 (1).zip\n"
     ]
    }
   ],
   "source": [
    "from google.colab import files\n",
    "uploaded = files.upload()"
   ]
  },
  {
   "cell_type": "code",
   "execution_count": 5,
   "metadata": {
    "id": "BwWSI8S4ixoG"
   },
   "outputs": [],
   "source": [
    "import zipfile\n",
    "\n",
    "with zipfile.ZipFile(\"Conjuntos de listas de posteo para intersección-20250522 (1).zip\", 'r') as zip_ref:\n",
    "    zip_ref.extractall(\"datos_interseccion\")"
   ]
  },
  {
   "cell_type": "code",
   "execution_count": 6,
   "metadata": {
    "colab": {
     "base_uri": "https://localhost:8080/",
     "height": 0
    },
    "id": "jb218vZxi2Tr",
    "outputId": "3ed4ad33-a32c-45f4-945e-05ae089f8c9a"
   },
   "outputs": [
    {
     "data": {
      "text/plain": [
       "['postinglists-for-intersection-C-k=4.json.gz',\n",
       " 'postinglists-for-intersection-A-k=2.json.gz',\n",
       " 'postinglists-for-intersection-B-k=3.json.gz']"
      ]
     },
     "execution_count": 6,
     "metadata": {},
     "output_type": "execute_result"
    }
   ],
   "source": [
    "import os\n",
    "\n",
    "os.listdir(\"datos_interseccion\")"
   ]
  },
  {
   "cell_type": "code",
   "execution_count": 8,
   "metadata": {
    "colab": {
     "base_uri": "https://localhost:8080/",
     "height": 0
    },
    "id": "LGdPhi3KjNGv",
    "outputId": "cba28c82-92f7-41e3-bce1-6cff5a99a34d"
   },
   "outputs": [
    {
     "name": "stdout",
     "output_type": "stream",
     "text": [
      "Longitud de A: 200\n",
      "Longitud de B: 200\n",
      "Longitud de C: 200\n"
     ]
    }
   ],
   "source": [
    "import gzip\n",
    "import json\n",
    "\n",
    "\n",
    "with gzip.open('datos_interseccion/postinglists-for-intersection-A-k=2.json.gz', 'rt') as file:\n",
    "    A = json.load(file)\n",
    "\n",
    "\n",
    "with gzip.open('datos_interseccion/postinglists-for-intersection-B-k=3.json.gz', 'rt') as file:\n",
    "    B = json.load(file)\n",
    "\n",
    "\n",
    "with gzip.open('datos_interseccion/postinglists-for-intersection-C-k=4.json.gz', 'rt') as file:\n",
    "    C = json.load(file)\n",
    "\n",
    "\n",
    "print(f\"Longitud de A: {len(A)}\")\n",
    "print(f\"Longitud de B: {len(B)}\")\n",
    "print(f\"Longitud de C: {len(C)}\")"
   ]
  },
  {
   "cell_type": "code",
   "execution_count": 53,
   "metadata": {
    "colab": {
     "base_uri": "https://localhost:8080/",
     "height": 0
    },
    "id": "1SfK834xD0YY",
    "outputId": "4ea6560a-dc20-4c7e-d9d8-3473e7582c54"
   },
   "outputs": [
    {
     "name": "stdout",
     "output_type": "stream",
     "text": [
      "Ejemplo de A[0]:\n",
      "Lista 1: [848, 1153, 2233, 3004, 3275, 3336, 3418, 3578, 4332, 4339]\n",
      "Lista 2: [5, 8, 12, 14, 20, 22, 24, 28, 29, 32]\n",
      "\n",
      "Ejemplo de B[0]:\n",
      "Lista 1: [68, 260, 262, 267, 269, 272, 273, 281, 282, 289]\n",
      "Lista 2: [424, 529, 535, 744, 1224, 1304, 1707, 1772, 1804, 2080]\n",
      "Lista 3: [2, 3, 7, 9, 11, 12, 15, 16, 18, 19]\n",
      "\n",
      "Ejemplo de C[0]:\n",
      "Lista 1: [3, 4, 10, 17, 30, 38, 43, 49, 63, 66]\n",
      "Lista 2: [243, 1553, 1848, 1887, 1949, 2177, 2402, 2466, 2564, 3005]\n",
      "Lista 3: [1848, 3482, 3482, 3626, 4490, 4999, 7169, 7641, 7903, 8256]\n",
      "Lista 4: [4, 49, 91, 210, 237, 242, 318, 327, 353, 358]\n"
     ]
    }
   ],
   "source": [
    "\n",
    "print(\"Ejemplo de A[0]:\")\n",
    "for i, lista in enumerate(A[0]):\n",
    "    print(f\"Lista {i + 1}:\", lista[:10])\n",
    "\n",
    "\n",
    "print(\"\\nEjemplo de B[0]:\")\n",
    "for i, lista in enumerate(B[0]):\n",
    "    print(f\"Lista {i + 1}:\", lista[:10])\n",
    "\n",
    "\n",
    "print(\"\\nEjemplo de C[0]:\")\n",
    "for i, lista in enumerate(C[0]):\n",
    "    print(f\"Lista {i + 1}:\", lista[:10])"
   ]
  },
  {
   "cell_type": "markdown",
   "metadata": {
    "id": "TPJB4YmhjxLM"
   },
   "source": [
    " Algoritmo Melding (ME)\n"
   ]
  },
  {
   "cell_type": "markdown",
   "metadata": {
    "id": "Zhgwmxb1j33o"
   },
   "source": [
    "El algoritmo Melding (ME) calcula la intersección ordenada de varias listas también ordenadas. En esta implementación, se parte de la primera lista como base y se van intersectando una a una las demás utilizando conjuntos (`set`), ya que permiten realizar intersecciones de forma eficiente.\n",
    "\n",
    "Este enfoque nos sirve cuando se requiere obtener elementos comunes entre varias listas, especialmente cuando están ordenadas y su tamaño puede variar.\n"
   ]
  },
  {
   "cell_type": "code",
   "execution_count": 10,
   "metadata": {
    "id": "QkIrv1tAkAJQ"
   },
   "outputs": [],
   "source": [
    "def interseccion_melding(listas):\n",
    "    \"\"\"\n",
    "    Calcula la intersección de una lista de listas ordenadas.\n",
    "    Parámetro:\n",
    "        listas: lista de listas ordenadas\n",
    "    Retorna:\n",
    "        Lista con los elementos comunes en orden ascendente\n",
    "    \"\"\"\n",
    "    if not listas:\n",
    "        return []\n",
    "\n",
    "\n",
    "    resultado = set(listas[0])\n",
    "\n",
    "    for lst in listas[1:]:\n",
    "        resultado = resultado.intersection(lst)\n",
    "\n",
    "    return sorted(resultado)"
   ]
  },
  {
   "cell_type": "markdown",
   "metadata": {
    "id": "QgIGU3wskF51"
   },
   "source": [
    "a continuación presentaremos un ejemplo con el primer elemento del conjunto A, que contiene dos listas ordenadas. Se aplica el algoritmo Melding para calcular la intersección entre ellas.\n"
   ]
  },
  {
   "cell_type": "code",
   "execution_count": 54,
   "metadata": {
    "colab": {
     "base_uri": "https://localhost:8080/",
     "height": 0
    },
    "id": "PqQtqwSSEFH3",
    "outputId": "bfe20653-7caa-4294-f861-93f0bfb511b2"
   },
   "outputs": [
    {
     "name": "stdout",
     "output_type": "stream",
     "text": [
      "Listas en A[0] (primeros 10 elementos de cada una):\n",
      "Lista 1: [848, 1153, 2233, 3004, 3275, 3336, 3418, 3578, 4332, 4339]\n",
      "Lista 2: [5, 8, 12, 14, 20, 22, 24, 28, 29, 32]\n",
      "\n",
      "Resultado Melding: [6323, 12498]\n",
      "Longitud de la intersección: 2\n"
     ]
    }
   ],
   "source": [
    "ejemplo_A = A[0]  #\n",
    "\n",
    "print(\"Listas en A[0] (primeros 10 elementos de cada una):\")\n",
    "for i, lista in enumerate(ejemplo_A):\n",
    "    print(f\"Lista {i+1}:\", lista[:10])\n",
    "\n",
    "resultado_ME = interseccion_melding(ejemplo_A)\n",
    "print(\"\\nResultado Melding:\", resultado_ME[:10])\n",
    "print(\"Longitud de la intersección:\", len(resultado_ME))"
   ]
  },
  {
   "cell_type": "markdown",
   "metadata": {
    "id": "AVnpvPRFkpiL"
   },
   "source": [
    "Aplicación del algoritmo Melding al conjunto A\n"
   ]
  },
  {
   "cell_type": "markdown",
   "metadata": {
    "id": "9T63o5kGkvwL"
   },
   "source": [
    "En este paso aplicaremos el algoritmo Melding a cada elemento del conjunto A. Cada elemento de A contiene dos listas ordenadas, y se calcula la intersección entre ellas. También se mide el tiempo de ejecución para cada operación y la longitud de la lista resultante, con el fin de analizar el rendimiento del algoritmo.\n"
   ]
  },
  {
   "cell_type": "code",
   "execution_count": 12,
   "metadata": {
    "colab": {
     "base_uri": "https://localhost:8080/",
     "height": 0
    },
    "id": "NfuTWI9yk9dQ",
    "outputId": "3deb62ba-1d34-4fe8-b844-b863561fd6d8"
   },
   "outputs": [
    {
     "name": "stdout",
     "output_type": "stream",
     "text": [
      "Primeras 5 longitudes: [2, 6, 1, 16, 5]\n",
      "Primeros 5 tiempos (s): [0.0005025863647460938, 7.414817810058594e-05, 0.00013828277587890625, 0.00020599365234375, 7.772445678710938e-05]\n"
     ]
    }
   ],
   "source": [
    "import time\n",
    "\n",
    "\n",
    "tiempos_ME_A = []\n",
    "longitudes_ME_A = []\n",
    "\n",
    "\n",
    "for par in A:\n",
    "    inicio = time.time()\n",
    "    resultado = interseccion_melding(par)\n",
    "    fin = time.time()\n",
    "\n",
    "    tiempos_ME_A.append(fin - inicio)\n",
    "    longitudes_ME_A.append(len(resultado))\n",
    "\n",
    "\n",
    "print(\"Primeras 5 longitudes:\", longitudes_ME_A[:5])\n",
    "print(\"Primeros 5 tiempos (s):\", tiempos_ME_A[:5])"
   ]
  },
  {
   "cell_type": "markdown",
   "metadata": {
    "id": "9FHWKK3plBc6"
   },
   "source": [
    "Las listas `tiempos_ME_A` y `longitudes_ME_A` contienen los resultados del algoritmo Melding aplicado a cada elemento del conjunto A.\n",
    "\n",
    "Estos valores los utilizaremos para generar gráficos boxplot comparativos entre algoritmos y conjuntos (A, B, C).\n"
   ]
  },
  {
   "cell_type": "markdown",
   "metadata": {
    "id": "9npI3Z54lLVl"
   },
   "source": [
    "Aplicación del algoritmo Melding al conjunto B\n"
   ]
  },
  {
   "cell_type": "markdown",
   "metadata": {
    "id": "z8Z7SGsllOU7"
   },
   "source": [
    "Cada elemento del conjunto B contiene tres listas ordenadas. En esta sección se aplica el algoritmo Melding para calcular la intersección entre estas tres listas.\n",
    "\n",
    "Se miden el tiempo de ejecución y la longitud de la intersección para cada elemento del conjunto.\n"
   ]
  },
  {
   "cell_type": "code",
   "execution_count": 13,
   "metadata": {
    "colab": {
     "base_uri": "https://localhost:8080/",
     "height": 0
    },
    "id": "OCAjmmldlr2u",
    "outputId": "aed92c96-fc49-4daa-c3f5-cc985f6d3d8c"
   },
   "outputs": [
    {
     "name": "stdout",
     "output_type": "stream",
     "text": [
      "Primeras 5 longitudes B: [6, 7, 16, 4, 1]\n",
      "Primeros 5 tiempos B (s): [0.00013017654418945312, 0.001703500747680664, 0.0009324550628662109, 0.0004892349243164062, 0.00012421607971191406]\n"
     ]
    }
   ],
   "source": [
    "\n",
    "tiempos_ME_B = []\n",
    "longitudes_ME_B = []\n",
    "\n",
    "\n",
    "for tripleta in B:\n",
    "    inicio = time.time()\n",
    "    resultado = interseccion_melding(tripleta)\n",
    "    fin = time.time()\n",
    "\n",
    "    tiempos_ME_B.append(fin - inicio)\n",
    "    longitudes_ME_B.append(len(resultado))\n",
    "\n",
    "# Vista previa\n",
    "print(\"Primeras 5 longitudes B:\", longitudes_ME_B[:5])\n",
    "print(\"Primeros 5 tiempos B (s):\", tiempos_ME_B[:5])"
   ]
  },
  {
   "cell_type": "markdown",
   "metadata": {
    "id": "9i6j03IolvvW"
   },
   "source": [
    "Aplicación del algoritmo Melding al conjunto C\n"
   ]
  },
  {
   "cell_type": "markdown",
   "metadata": {
    "id": "77Sd3u51ly71"
   },
   "source": [
    "El conjunto C contiene cuádruples de listas ordenadas. Se aplica el algoritmo Melding a cada uno de estos conjuntos para obtener la intersección común.\n",
    "\n",
    "También se mide el tiempo de ejecución y la longitud del resultado."
   ]
  },
  {
   "cell_type": "code",
   "execution_count": 14,
   "metadata": {
    "colab": {
     "base_uri": "https://localhost:8080/",
     "height": 0
    },
    "id": "VRFNIFail24j",
    "outputId": "9f5e661d-545e-4f3f-8e9b-51ef507f11c6"
   },
   "outputs": [
    {
     "name": "stdout",
     "output_type": "stream",
     "text": [
      "Primeras 5 longitudes C: [0, 2, 46, 3, 4]\n",
      "Primeros 5 tiempos C (s): [0.0002799034118652344, 0.0003170967102050781, 0.0011317729949951172, 0.00022125244140625, 0.0001461505889892578]\n"
     ]
    }
   ],
   "source": [
    "\n",
    "tiempos_ME_C = []\n",
    "longitudes_ME_C = []\n",
    "\n",
    "\n",
    "for cuarteto in C:\n",
    "    inicio = time.time()\n",
    "    resultado = interseccion_melding(cuarteto)\n",
    "    fin = time.time()\n",
    "\n",
    "    tiempos_ME_C.append(fin - inicio)\n",
    "    longitudes_ME_C.append(len(resultado))\n",
    "\n",
    "# vista previa\n",
    "print(\"Primeras 5 longitudes C:\", longitudes_ME_C[:5])\n",
    "print(\"Primeros 5 tiempos C (s):\", tiempos_ME_C[:5])"
   ]
  },
  {
   "cell_type": "markdown",
   "metadata": {
    "id": "WMEyI_cWmEfr"
   },
   "source": [
    "Gráficos comparativos del algoritmo Melding (ME)\n"
   ]
  },
  {
   "cell_type": "markdown",
   "metadata": {
    "id": "ORmTGlBImHrC"
   },
   "source": [
    "En esta sección se presentan los gráficos tipo boxplot que comparan el rendimiento del algoritmo Melding en los conjuntos A, B y C. Se visualizan dos aspectos:\n",
    "\n",
    "- El tiempo de ejecución de la intersección.\n",
    "- La longitud de la lista resultante de cada intersección.\n",
    "\n",
    "Laa gráficas nos permiten observar la variabilidad y eficiencia del algoritmo según el número de listas involucradas."
   ]
  },
  {
   "cell_type": "code",
   "execution_count": 15,
   "metadata": {
    "colab": {
     "base_uri": "https://localhost:8080/",
     "height": 488
    },
    "id": "_mlUAgOFmTwB",
    "outputId": "0e53a66d-2364-4472-f60e-256aac8ae1e1"
   },
   "outputs": [
    {
     "data": {
      "image/png": "[encoded data removed]",
      "text/plain": [
       "<Figure size 800x500 with 1 Axes>"
      ]
     },
     "metadata": {},
     "output_type": "display_data"
    }
   ],
   "source": [
    "import matplotlib.pyplot as plt\n",
    "import seaborn as sns\n",
    "import pandas as pd\n",
    "\n",
    "\n",
    "df_tiempos = pd.DataFrame({\n",
    "    'A': tiempos_ME_A,\n",
    "    'B': tiempos_ME_B,\n",
    "    'C': tiempos_ME_C\n",
    "})\n",
    "\n",
    "\n",
    "df_tiempos_melted = df_tiempos.melt(var_name='Conjunto', value_name='Tiempo (s)')\n",
    "\n",
    "\n",
    "plt.figure(figsize=(8, 5))\n",
    "sns.boxplot(data=df_tiempos_melted, x='Conjunto', y='Tiempo (s)')\n",
    "plt.title('Tiempos de ejecución del algoritmo Melding')\n",
    "plt.grid(True)\n",
    "plt.show()"
   ]
  },
  {
   "cell_type": "code",
   "execution_count": 16,
   "metadata": {
    "colab": {
     "base_uri": "https://localhost:8080/",
     "height": 488
    },
    "id": "1ZqnfPkUmYDA",
    "outputId": "8bbd5959-6ad2-4114-e6db-c5677eb62278"
   },
   "outputs": [
    {
     "data": {
      "image/png": "[encoded data removed]",
      "text/plain": [
       "<Figure size 800x500 with 1 Axes>"
      ]
     },
     "metadata": {},
     "output_type": "display_data"
    }
   ],
   "source": [
    "\n",
    "df_longitudes = pd.DataFrame({\n",
    "    'A': longitudes_ME_A,\n",
    "    'B': longitudes_ME_B,\n",
    "    'C': longitudes_ME_C\n",
    "})\n",
    "\n",
    "\n",
    "df_longitudes_melted = df_longitudes.melt(var_name='Conjunto', value_name='Longitud')\n",
    "\n",
    "\n",
    "plt.figure(figsize=(8, 5))\n",
    "sns.boxplot(data=df_longitudes_melted, x='Conjunto', y='Longitud')\n",
    "plt.title('Longitudes de intersección con algoritmo Melding')\n",
    "plt.grid(True)\n",
    "plt.show()"
   ]
  },
  {
   "cell_type": "markdown",
   "metadata": {
    "id": "6TZSKRv3m8mO"
   },
   "source": [
    "Algoritmo Baeza-Yates (BY)\n"
   ]
  },
  {
   "cell_type": "markdown",
   "metadata": {
    "id": "IAlMiCIpnCAW"
   },
   "source": [
    "El algoritmo Baeza-Yates (BY) está diseñado para encontrar la intersección entre múltiples listas ordenadas de forma más eficiente que métodos ingenuos. Su estrategia se basa en:\n",
    "\n",
    "1. Tomar la lista más corta como referencia.\n",
    "2. Buscar cada uno de sus elementos en las demás listas utilizando búsqueda binaria.\n"
   ]
  },
  {
   "cell_type": "code",
   "execution_count": 17,
   "metadata": {
    "id": "1BDVML15nH0u"
   },
   "outputs": [],
   "source": [
    "def busqueda_binaria(lista, objetivo):\n",
    "    \"\"\"Devuelve True si el objetivo está en la lista usando búsqueda binaria.\"\"\"\n",
    "    izq, der = 0, len(lista) - 1\n",
    "    while izq <= der:\n",
    "        medio = (izq + der) // 2\n",
    "        if lista[medio] == objetivo:\n",
    "            return True\n",
    "        elif lista[medio] < objetivo:\n",
    "            izq = medio + 1\n",
    "        else:\n",
    "            der = medio - 1\n",
    "    return False\n",
    "\n",
    "def interseccion_baeza_yates(listas):\n",
    "    \"\"\"\n",
    "    Intersección de múltiples listas ordenadas usando Baeza-Yates:\n",
    "    - Selecciona la más corta.\n",
    "    - Busca sus elementos en las demás usando búsqueda binaria.\n",
    "    \"\"\"\n",
    "    if not listas:\n",
    "        return []\n",
    "\n",
    "\n",
    "    listas_ordenadas = sorted(listas, key=len)\n",
    "    base = listas_ordenadas[0]\n",
    "    otras = listas_ordenadas[1:]\n",
    "\n",
    "    resultado = []\n",
    "    for elemento in base:\n",
    "        encontrado = True\n",
    "        for lista in otras:\n",
    "            if not busqueda_binaria(lista, elemento):\n",
    "                encontrado = False\n",
    "                break\n",
    "        if encontrado:\n",
    "            resultado.append(elemento)\n",
    "    return resultado\n"
   ]
  },
  {
   "cell_type": "markdown",
   "metadata": {
    "id": "DNDxvWLFnKl9"
   },
   "source": [
    "Ahora presentamos una prueba con el primer elemento del conjunto A para validar el correcto funcionamiento del algoritmo Baeza-Yates.\n"
   ]
  },
  {
   "cell_type": "code",
   "execution_count": 55,
   "metadata": {
    "colab": {
     "base_uri": "https://localhost:8080/",
     "height": 0
    },
    "id": "cO5pO3hkEU59",
    "outputId": "0fd03e22-755b-49a2-cf65-f48db3c0a726"
   },
   "outputs": [
    {
     "name": "stdout",
     "output_type": "stream",
     "text": [
      "Listas en A[0] (primeros 10 elementos de cada una):\n",
      "Lista 1: [848, 1153, 2233, 3004, 3275, 3336, 3418, 3578, 4332, 4339]\n",
      "Lista 2: [5, 8, 12, 14, 20, 22, 24, 28, 29, 32]\n",
      "\n",
      "Resultado BY (máximo 10 elementos): [6323, 12498]\n",
      "Longitud de la intersección: 2\n"
     ]
    }
   ],
   "source": [
    "ejemplo_A = A[0]  # Dos listas\n",
    "\n",
    "print(\"Listas en A[0] (primeros 10 elementos de cada una):\")\n",
    "for i, lista in enumerate(ejemplo_A):\n",
    "    print(f\"Lista {i + 1}:\", lista[:10])\n",
    "\n",
    "resultado_BY = interseccion_baeza_yates(ejemplo_A)\n",
    "print(\"\\nResultado BY (máximo 10 elementos):\", resultado_BY[:10])\n",
    "print(\"Longitud de la intersección:\", len(resultado_BY))"
   ]
  },
  {
   "cell_type": "markdown",
   "metadata": {
    "id": "DDrEyArOo3bJ"
   },
   "source": [
    "Aplicación del algoritmo Baeza-Yates al conjunto A\n"
   ]
  },
  {
   "cell_type": "markdown",
   "metadata": {
    "id": "IY3M7jpWo6cw"
   },
   "source": [
    "Aplicamos el algoritmo Baeza-Yates a cada elemento del conjunto A. Cada uno de estos elementos está compuesto por dos listas ordenadas.\n",
    "Medimos el tiempo de ejecución y la longitud de la intersección para cada caso, con el fin de evaluar el desempeño del algoritmo en comparación con Melding."
   ]
  },
  {
   "cell_type": "code",
   "execution_count": 19,
   "metadata": {
    "colab": {
     "base_uri": "https://localhost:8080/",
     "height": 0
    },
    "id": "KjS7LrDgpBWl",
    "outputId": "2e98e3a8-ead6-4f76-e686-21de561b4b1d"
   },
   "outputs": [
    {
     "name": "stdout",
     "output_type": "stream",
     "text": [
      "Primeras 5 longitudes BY - A: [2, 9, 1, 17, 5]\n",
      "Primeros 5 tiempos BY - A (s): [0.00038051605224609375, 0.0002346038818359375, 0.0001862049102783203, 0.0002703666687011719, 0.00023603439331054688]\n"
     ]
    }
   ],
   "source": [
    "\n",
    "tiempos_BY_A = []\n",
    "longitudes_BY_A = []\n",
    "\n",
    "\n",
    "for par in A:\n",
    "    inicio = time.time()\n",
    "    resultado = interseccion_baeza_yates(par)\n",
    "    fin = time.time()\n",
    "\n",
    "    tiempos_BY_A.append(fin - inicio)\n",
    "    longitudes_BY_A.append(len(resultado))\n",
    "\n",
    "# Vista previa\n",
    "print(\"Primeras 5 longitudes BY - A:\", longitudes_BY_A[:5])\n",
    "print(\"Primeros 5 tiempos BY - A (s):\", tiempos_BY_A[:5])"
   ]
  },
  {
   "cell_type": "markdown",
   "metadata": {
    "id": "jLkFtVi-pNZ5"
   },
   "source": [
    "Aplicación del algoritmo Baeza-Yates al conjunto B\n"
   ]
  },
  {
   "cell_type": "markdown",
   "metadata": {
    "id": "4PIPbGwBpPAh"
   },
   "source": []
  },
  {
   "cell_type": "markdown",
   "metadata": {
    "id": "EeJHemFupP07"
   },
   "source": [
    "Cada elemento del conjunto B contiene tres listas ordenadas. En esta sección aplicamos el algoritmo Baeza-Yates para calcular la intersección entre las tres listas de cada elemento.\n",
    "\n",
    "MEdimos el tiempo de ejecución y la longitud de la intersección para comparar su comportamiento frente a los conjuntos con diferente número de listas.\n"
   ]
  },
  {
   "cell_type": "code",
   "execution_count": 20,
   "metadata": {
    "colab": {
     "base_uri": "https://localhost:8080/",
     "height": 0
    },
    "id": "lq1r0P0ipZO3",
    "outputId": "10256878-e86d-499c-d3d2-b74d8440ae2e"
   },
   "outputs": [
    {
     "name": "stdout",
     "output_type": "stream",
     "text": [
      "Primeras 5 longitudes BY - B: [6, 7, 16, 4, 1]\n",
      "Primeros 5 tiempos BY - B (s): [0.0004892349243164062, 0.0004286766052246094, 0.0005688667297363281, 0.0002448558807373047, 0.0002129077911376953]\n"
     ]
    }
   ],
   "source": [
    "\n",
    "tiempos_BY_B = []\n",
    "longitudes_BY_B = []\n",
    "\n",
    "\n",
    "for tripleta in B:\n",
    "    inicio = time.time()\n",
    "    resultado = interseccion_baeza_yates(tripleta)\n",
    "    fin = time.time()\n",
    "\n",
    "    tiempos_BY_B.append(fin - inicio)\n",
    "    longitudes_BY_B.append(len(resultado))\n",
    "\n",
    "# Vista previa\n",
    "print(\"Primeras 5 longitudes BY - B:\", longitudes_BY_B[:5])\n",
    "print(\"Primeros 5 tiempos BY - B (s):\", tiempos_BY_B[:5])"
   ]
  },
  {
   "cell_type": "markdown",
   "metadata": {
    "id": "PWVKjgXFqxow"
   },
   "source": [
    "Aplicación del algoritmo Baeza-Yates al conjunto C\n"
   ]
  },
  {
   "cell_type": "markdown",
   "metadata": {
    "id": "HTjyJtxpq2mn"
   },
   "source": [
    "El conjunto C está formado por elementos que contienen cuatro listas ordenadas. Se aplica el algoritmo Baeza-Yates para calcular la intersección entre estas listas.\n",
    "Aquí se registran el tiempo de ejecución y la longitud de la intersección, con el objetivo de analizar cómo se comporta el algoritmo a medida que se incrementa el número de listas por comparar."
   ]
  },
  {
   "cell_type": "code",
   "execution_count": 21,
   "metadata": {
    "colab": {
     "base_uri": "https://localhost:8080/",
     "height": 0
    },
    "id": "-qns2DA5q_yg",
    "outputId": "a075c6bd-05fb-4540-c154-b63abb49b6be"
   },
   "outputs": [
    {
     "name": "stdout",
     "output_type": "stream",
     "text": [
      "Primeras 5 longitudes BY - C: [0, 2, 52, 5, 5]\n",
      "Primeros 5 tiempos BY - C (s): [0.0002238750457763672, 0.0002243518829345703, 0.0005440711975097656, 0.0002384185791015625, 0.00018453598022460938]\n"
     ]
    }
   ],
   "source": [
    "\n",
    "tiempos_BY_C = []\n",
    "longitudes_BY_C = []\n",
    "\n",
    "\n",
    "for cuarteto in C:\n",
    "    inicio = time.time()\n",
    "    resultado = interseccion_baeza_yates(cuarteto)\n",
    "    fin = time.time()\n",
    "\n",
    "    tiempos_BY_C.append(fin - inicio)\n",
    "    longitudes_BY_C.append(len(resultado))\n",
    "\n",
    "# Vista previa\n",
    "print(\"Primeras 5 longitudes BY - C:\", longitudes_BY_C[:5])\n",
    "print(\"Primeros 5 tiempos BY - C (s):\", tiempos_BY_C[:5])\n"
   ]
  },
  {
   "cell_type": "markdown",
   "metadata": {
    "id": "-9uBqPYor7_s"
   },
   "source": [
    "Gráficos comparativos del algoritmo Baeza-Yates (BY)\n"
   ]
  },
  {
   "cell_type": "markdown",
   "metadata": {
    "id": "7PM3rmOOr9mb"
   },
   "source": [
    "A continuación presentamos  los gráficos comparativos del algoritmo Baeza-Yates aplicados a los conjuntos A, B y C.\n",
    "\n",
    "Aquí visualizamos los\n",
    "\n",
    "- Los tiempos de ejecución, para comparar la eficiencia del algoritmo según el número de listas.\n",
    "- Las longitudes de los resultados de la intersección, para observar si hay diferencias significativas entre conjuntos.\n"
   ]
  },
  {
   "cell_type": "code",
   "execution_count": 22,
   "metadata": {
    "colab": {
     "base_uri": "https://localhost:8080/",
     "height": 488
    },
    "id": "9kUc_gwssMFo",
    "outputId": "60f33211-d9e1-4a5f-8426-80e3d44adf52"
   },
   "outputs": [
    {
     "data": {
      "image/png": "[encoded data removed]",
      "text/plain": [
       "<Figure size 800x500 with 1 Axes>"
      ]
     },
     "metadata": {},
     "output_type": "display_data"
    }
   ],
   "source": [
    "\n",
    "df_tiempos_by = pd.DataFrame({\n",
    "    'A': tiempos_BY_A,\n",
    "    'B': tiempos_BY_B,\n",
    "    'C': tiempos_BY_C\n",
    "})\n",
    "\n",
    "o\n",
    "df_tiempos_by_melted = df_tiempos_by.melt(var_name='Conjunto', value_name='Tiempo (s)')\n",
    "\n",
    "\n",
    "plt.figure(figsize=(8, 5))\n",
    "sns.boxplot(data=df_tiempos_by_melted, x='Conjunto', y='Tiempo (s)')\n",
    "plt.title('Tiempos de ejecución del algoritmo Baeza-Yates')\n",
    "plt.grid(True)\n",
    "plt.show()"
   ]
  },
  {
   "cell_type": "code",
   "execution_count": 24,
   "metadata": {
    "colab": {
     "base_uri": "https://localhost:8080/",
     "height": 488
    },
    "id": "_f--aDuOsQKK",
    "outputId": "3d461360-1a47-4ee3-c957-43f8530bf887"
   },
   "outputs": [
    {
     "data": {
      "image/png": "[encoded data removed]",
      "text/plain": [
       "<Figure size 800x500 with 1 Axes>"
      ]
     },
     "metadata": {},
     "output_type": "display_data"
    }
   ],
   "source": [
    "\n",
    "df_longitudes_by = pd.DataFrame({\n",
    "    'A': longitudes_BY_A,\n",
    "    'B': longitudes_BY_B,\n",
    "    'C': longitudes_BY_C\n",
    "})\n",
    "\n",
    "\n",
    "df_longitudes_by_melted = df_longitudes_by.melt(var_name='Conjunto', value_name='Longitud')\n",
    "\n",
    "\n",
    "plt.figure(figsize=(8, 5))\n",
    "sns.boxplot(data=df_longitudes_by_melted, x='Conjunto', y='Longitud')\n",
    "plt.title('Longitudes de intersección con algoritmo Baeza-Yates')\n",
    "plt.grid(True)\n",
    "plt.show()"
   ]
  },
  {
   "cell_type": "markdown",
   "metadata": {
    "id": "1IacK91zwxe2"
   },
   "source": [
    "Variante BY-BI: Baeza-Yates con Búsqueda Acotada\n"
   ]
  },
  {
   "cell_type": "markdown",
   "metadata": {
    "id": "YxAhL9oyw0Lc"
   },
   "source": [
    "Esta variante del algoritmo Baeza-Yates modifica la búsqueda binaria para que se realice dentro de un rango acotado, es decir, entre índices que se actualizan en función de la posición previa.\n",
    "\n"
   ]
  },
  {
   "cell_type": "code",
   "execution_count": 25,
   "metadata": {
    "id": "AC2U5JbDw5Vu"
   },
   "outputs": [],
   "source": [
    "def busqueda_binaria_acotada(lista, objetivo, inicio):\n",
    "    \"\"\"\n",
    "    Búsqueda binaria acotada: busca `objetivo` en `lista` comenzando desde `inicio`.\n",
    "    Retorna True si lo encuentra y la nueva posición sugerida.\n",
    "    \"\"\"\n",
    "    izq = inicio\n",
    "    der = len(lista) - 1\n",
    "\n",
    "    while izq <= der:\n",
    "        medio = (izq + der) // 2\n",
    "        if lista[medio] == objetivo:\n",
    "            return True, medio\n",
    "        elif lista[medio] < objetivo:\n",
    "            izq = medio + 1\n",
    "        else:\n",
    "            der = medio - 1\n",
    "    return False, izq"
   ]
  },
  {
   "cell_type": "code",
   "execution_count": 26,
   "metadata": {
    "id": "vjJbWupYw9PI"
   },
   "outputs": [],
   "source": [
    "def interseccion_by_bi(listas):\n",
    "    \"\"\"\n",
    "    Variante de Baeza-Yates con búsqueda binaria acotada (BY-BI).\n",
    "    Realiza intersección de múltiples listas ordenadas.\n",
    "    \"\"\"\n",
    "    if not listas:\n",
    "        return []\n",
    "\n",
    "    listas_ordenadas = sorted(listas, key=len)\n",
    "    base = listas_ordenadas[0]\n",
    "    otras = listas_ordenadas[1:]\n",
    "\n",
    "    resultado = []\n",
    "    posiciones = [0] * len(otras)  # Posiciones iniciales por lista\n",
    "\n",
    "    for elemento in base:\n",
    "        encontrado = True\n",
    "        for i, lista in enumerate(otras):\n",
    "            ok, pos = busqueda_binaria_acotada(lista, elemento, posiciones[i])\n",
    "            if not ok:\n",
    "                encontrado = False\n",
    "                break\n",
    "            posiciones[i] = pos  # Se actualiza la posición\n",
    "        if encontrado:\n",
    "            resultado.append(elemento)\n",
    "    return resultado"
   ]
  },
  {
   "cell_type": "markdown",
   "metadata": {
    "id": "-7TTkmchxAAY"
   },
   "source": [
    "realizamos una prueba de la variante BY-BI con el primer elemento del conjunto A para verificar su funcionamiento.\n"
   ]
  },
  {
   "cell_type": "code",
   "execution_count": 27,
   "metadata": {
    "colab": {
     "base_uri": "https://localhost:8080/",
     "height": 0
    },
    "id": "jXGxiExvxFZv",
    "outputId": "24632cc9-ea89-49b1-d3d6-3e4ed435eec3"
   },
   "outputs": [
    {
     "name": "stdout",
     "output_type": "stream",
     "text": [
      "Resultado BY-BI: [6323, 12498]\n",
      "Longitud: 2\n"
     ]
    }
   ],
   "source": [
    "resultado_BY_BI = interseccion_by_bi(A[0])\n",
    "print(\"Resultado BY-BI:\", resultado_BY_BI)\n",
    "print(\"Longitud:\", len(resultado_BY_BI))"
   ]
  },
  {
   "cell_type": "markdown",
   "metadata": {
    "id": "wrC_K1BaxNpf"
   },
   "source": [
    "Aplicación del algoritmo BY-BI a los conjuntos A, B y C\n"
   ]
  },
  {
   "cell_type": "markdown",
   "metadata": {
    "id": "gdyNgzFDxacK"
   },
   "source": [
    "EvalúaMOS el desempeño del algoritmo Baeza-Yates con búsqueda acotada (BY-BI) en los tres conjuntos: A, B y C.\n",
    "\n",
    "Se miden los tiempos de ejecución y longitudes de intersección para cada entrada, con el objetivo de comparar su eficiencia respecto a las versiones previas.\n"
   ]
  },
  {
   "cell_type": "code",
   "execution_count": 28,
   "metadata": {
    "colab": {
     "base_uri": "https://localhost:8080/",
     "height": 0
    },
    "id": "Mzjmx0kIxhLS",
    "outputId": "a1eb829a-9565-471d-a8b1-e71c214de10b"
   },
   "outputs": [
    {
     "name": "stdout",
     "output_type": "stream",
     "text": [
      "Primeras 5 longitudes BY-BI A: [2, 9, 1, 17, 5]\n",
      "Primeros 5 tiempos BY-BI A (s): [0.000530242919921875, 0.0003154277801513672, 0.00025844573974609375, 0.0002944469451904297, 0.00032520294189453125]\n"
     ]
    }
   ],
   "source": [
    "tiempos_BY_BI_A = []\n",
    "longitudes_BY_BI_A = []\n",
    "\n",
    "for par in A:\n",
    "    inicio = time.time()\n",
    "    resultado = interseccion_by_bi(par)\n",
    "    fin = time.time()\n",
    "\n",
    "    tiempos_BY_BI_A.append(fin - inicio)\n",
    "    longitudes_BY_BI_A.append(len(resultado))\n",
    "\n",
    "print(\"Primeras 5 longitudes BY-BI A:\", longitudes_BY_BI_A[:5])\n",
    "print(\"Primeros 5 tiempos BY-BI A (s):\", tiempos_BY_BI_A[:5])"
   ]
  },
  {
   "cell_type": "code",
   "execution_count": 29,
   "metadata": {
    "colab": {
     "base_uri": "https://localhost:8080/",
     "height": 0
    },
    "id": "tHiNLMnixn2P",
    "outputId": "457a9fdc-e123-4c0f-a916-9ccdd1e71cad"
   },
   "outputs": [
    {
     "name": "stdout",
     "output_type": "stream",
     "text": [
      "Primeras 5 longitudes BY-BI B: [6, 7, 16, 4, 1]\n",
      "Primeros 5 tiempos BY-BI B (s): [0.0005643367767333984, 0.0004820823669433594, 0.0005784034729003906, 0.0002961158752441406, 0.00026226043701171875]\n"
     ]
    }
   ],
   "source": [
    "tiempos_BY_BI_B = []\n",
    "longitudes_BY_BI_B = []\n",
    "\n",
    "for tripleta in B:\n",
    "    inicio = time.time()\n",
    "    resultado = interseccion_by_bi(tripleta)\n",
    "    fin = time.time()\n",
    "\n",
    "    tiempos_BY_BI_B.append(fin - inicio)\n",
    "    longitudes_BY_BI_B.append(len(resultado))\n",
    "\n",
    "print(\"Primeras 5 longitudes BY-BI B:\", longitudes_BY_BI_B[:5])\n",
    "print(\"Primeros 5 tiempos BY-BI B (s):\", tiempos_BY_BI_B[:5])"
   ]
  },
  {
   "cell_type": "code",
   "execution_count": 30,
   "metadata": {
    "colab": {
     "base_uri": "https://localhost:8080/",
     "height": 0
    },
    "id": "QLKPQ-sPxs0h",
    "outputId": "427bc586-56b4-4db5-be13-c8517aca8949"
   },
   "outputs": [
    {
     "name": "stdout",
     "output_type": "stream",
     "text": [
      "Primeras 5 longitudes BY-BI C: [0, 2, 52, 5, 5]\n",
      "Primeros 5 tiempos BY-BI C (s): [0.00037980079650878906, 0.0003464221954345703, 0.0008962154388427734, 0.0004227161407470703, 0.0003273487091064453]\n"
     ]
    }
   ],
   "source": [
    "tiempos_BY_BI_C = []\n",
    "longitudes_BY_BI_C = []\n",
    "\n",
    "for cuarteto in C:\n",
    "    inicio = time.time()\n",
    "    resultado = interseccion_by_bi(cuarteto)\n",
    "    fin = time.time()\n",
    "\n",
    "    tiempos_BY_BI_C.append(fin - inicio)\n",
    "    longitudes_BY_BI_C.append(len(resultado))\n",
    "\n",
    "print(\"Primeras 5 longitudes BY-BI C:\", longitudes_BY_BI_C[:5])\n",
    "print(\"Primeros 5 tiempos BY-BI C (s):\", tiempos_BY_BI_C[:5])"
   ]
  },
  {
   "cell_type": "markdown",
   "metadata": {
    "id": "EkWwFaB3yD52"
   },
   "source": [
    " Variante BY-B2: Baeza-Yates con búsqueda no acotada\n"
   ]
  },
  {
   "cell_type": "markdown",
   "metadata": {
    "id": "R8_5b3c6yJeK"
   },
   "source": [
    "Esta variante del algoritmo Baeza-Yates (BY-B2) aplica búsqueda binaria completa a cada elemento de la lista base sin aprovechar rangos acotados. A diferencia de BY-BI, la búsqueda se realiza desde el principio hasta el final de cada lista, sin guardar posiciones previas.\n"
   ]
  },
  {
   "cell_type": "code",
   "execution_count": 31,
   "metadata": {
    "id": "NmPiMMb0yMxc"
   },
   "outputs": [],
   "source": [
    "def interseccion_by_b2(listas):\n",
    "    \"\"\"\n",
    "    Variante de Baeza-Yates con búsqueda no acotada (BY-B2).\n",
    "    Realiza búsqueda binaria completa para cada lista.\n",
    "    \"\"\"\n",
    "    if not listas:\n",
    "        return []\n",
    "\n",
    "    listas_ordenadas = sorted(listas, key=len)\n",
    "    base = listas_ordenadas[0]\n",
    "    otras = listas_ordenadas[1:]\n",
    "\n",
    "    resultado = []\n",
    "    for elemento in base:\n",
    "        encontrado = True\n",
    "        for lista in otras:\n",
    "            if not busqueda_binaria(lista, elemento):  # Sin usar posición previa\n",
    "                encontrado = False\n",
    "                break\n",
    "        if encontrado:\n",
    "            resultado.append(elemento)\n",
    "    return resultado\n"
   ]
  },
  {
   "cell_type": "code",
   "execution_count": 32,
   "metadata": {
    "colab": {
     "base_uri": "https://localhost:8080/",
     "height": 0
    },
    "id": "4uii4q2-yREe",
    "outputId": "e60ed517-840e-4dbf-e8e9-339b45ccda83"
   },
   "outputs": [
    {
     "name": "stdout",
     "output_type": "stream",
     "text": [
      "Resultado BY-B2: [6323, 12498]\n",
      "Longitud: 2\n"
     ]
    }
   ],
   "source": [
    "resultado_BY_B2 = interseccion_by_b2(A[0])\n",
    "print(\"Resultado BY-B2:\", resultado_BY_B2)\n",
    "print(\"Longitud:\", len(resultado_BY_B2))"
   ]
  },
  {
   "cell_type": "markdown",
   "metadata": {
    "id": "56w-kk69yf7Z"
   },
   "source": [
    "Aplicación del algoritmo BY-B2 a los conjuntos A, B y C\n"
   ]
  },
  {
   "cell_type": "markdown",
   "metadata": {
    "id": "6HIXFdcaysRu"
   },
   "source": [
    "A continuación, se aplica la variante BY-B2 (búsqueda no acotada) a los conjuntos A, B y C. Esta versión no utiliza posiciones previas ni optimizaciones en los límites de búsqueda."
   ]
  },
  {
   "cell_type": "code",
   "execution_count": 33,
   "metadata": {
    "colab": {
     "base_uri": "https://localhost:8080/",
     "height": 0
    },
    "id": "YAlUuj5ayu7m",
    "outputId": "80047db3-6aea-4ddc-badf-82d6009fc52b"
   },
   "outputs": [
    {
     "name": "stdout",
     "output_type": "stream",
     "text": [
      "Primeras 5 longitudes BY-B2 A: [2, 9, 1, 17, 5]\n",
      "Primeros 5 tiempos BY-B2 A (s): [0.0005433559417724609, 0.00040435791015625, 0.00031280517578125, 0.0004127025604248047, 0.000385284423828125]\n"
     ]
    }
   ],
   "source": [
    "tiempos_BY_B2_A = []\n",
    "longitudes_BY_B2_A = []\n",
    "\n",
    "for par in A:\n",
    "    inicio = time.time()\n",
    "    resultado = interseccion_by_b2(par)\n",
    "    fin = time.time()\n",
    "\n",
    "    tiempos_BY_B2_A.append(fin - inicio)\n",
    "    longitudes_BY_B2_A.append(len(resultado))\n",
    "\n",
    "print(\"Primeras 5 longitudes BY-B2 A:\", longitudes_BY_B2_A[:5])\n",
    "print(\"Primeros 5 tiempos BY-B2 A (s):\", tiempos_BY_B2_A[:5])"
   ]
  },
  {
   "cell_type": "code",
   "execution_count": 34,
   "metadata": {
    "colab": {
     "base_uri": "https://localhost:8080/",
     "height": 0
    },
    "id": "mKOXwx3Hy3qM",
    "outputId": "9f3dbfbb-36bc-4e64-c00b-20b29ae17960"
   },
   "outputs": [
    {
     "name": "stdout",
     "output_type": "stream",
     "text": [
      "Primeras 5 longitudes BY-B2 C: [0, 2, 52, 5, 5]\n",
      "Primeros 5 tiempos BY-B2 C (s): [0.0002353191375732422, 0.0002262592315673828, 0.0005075931549072266, 0.0002651214599609375, 0.00019407272338867188]\n"
     ]
    }
   ],
   "source": [
    "tiempos_BY_B2_C = []\n",
    "longitudes_BY_B2_C = []\n",
    "\n",
    "for cuarteto in C:\n",
    "    inicio = time.time()\n",
    "    resultado = interseccion_by_b2(cuarteto)\n",
    "    fin = time.time()\n",
    "\n",
    "    tiempos_BY_B2_C.append(fin - inicio)\n",
    "    longitudes_BY_B2_C.append(len(resultado))\n",
    "\n",
    "print(\"Primeras 5 longitudes BY-B2 C:\", longitudes_BY_B2_C[:5])\n",
    "print(\"Primeros 5 tiempos BY-B2 C (s):\", tiempos_BY_B2_C[:5])"
   ]
  },
  {
   "cell_type": "markdown",
   "metadata": {
    "id": "y4Q20a8R03xI"
   },
   "source": [
    " Gráficos comparativos de BY-BI y BY-B2\n"
   ]
  },
  {
   "cell_type": "markdown",
   "metadata": {
    "id": "fzVZtgne1A8k"
   },
   "source": [
    "A continuación, se presentan los gráficos boxplot de las variantes del algoritmo Baeza-Yates:\n",
    "\n",
    "- BY-BI (búsqueda acotada)\n",
    "- BY-B2 (búsqueda no acotada)\n",
    "\n"
   ]
  },
  {
   "cell_type": "code",
   "execution_count": 36,
   "metadata": {
    "colab": {
     "base_uri": "https://localhost:8080/",
     "height": 488
    },
    "id": "8MzdIqLR1D_X",
    "outputId": "dc07fb41-9032-4974-a15d-b55ee3d45e94"
   },
   "outputs": [
    {
     "data": {
      "image/png": "[encoded data removed]",
      "text/plain": [
       "<Figure size 800x500 with 1 Axes>"
      ]
     },
     "metadata": {},
     "output_type": "display_data"
    }
   ],
   "source": [
    "df_tiempos_by_bi = pd.DataFrame({\n",
    "    'A': tiempos_BY_BI_A,\n",
    "    'B': tiempos_BY_BI_B,\n",
    "    'C': tiempos_BY_BI_C\n",
    "})\n",
    "\n",
    "df_tiempos_by_bi_melted = df_tiempos_by_bi.melt(var_name='Conjunto', value_name='Tiempo (s)')\n",
    "\n",
    "plt.figure(figsize=(8, 5))\n",
    "sns.boxplot(data=df_tiempos_by_bi_melted, x='Conjunto', y='Tiempo (s)')\n",
    "plt.title('Tiempos de ejecución – BY-BI')\n",
    "plt.grid(True)\n",
    "plt.show()"
   ]
  },
  {
   "cell_type": "code",
   "execution_count": 40,
   "metadata": {
    "colab": {
     "base_uri": "https://localhost:8080/",
     "height": 488
    },
    "id": "Nibf6Vr61Gm4",
    "outputId": "d789dd56-f1f4-44da-d533-bfde640284d3"
   },
   "outputs": [
    {
     "data": {
      "image/png": "[encoded data removed]",
      "text/plain": [
       "<Figure size 800x500 with 1 Axes>"
      ]
     },
     "metadata": {},
     "output_type": "display_data"
    }
   ],
   "source": [
    "df_longitudes_by_bi = pd.DataFrame({\n",
    "    'A': longitudes_BY_BI_A,\n",
    "    'B': longitudes_BY_BI_B,\n",
    "    'C': longitudes_BY_BI_C\n",
    "})\n",
    "\n",
    "df_longitudes_by_bi_melted = df_longitudes_by_bi.melt(var_name='Conjunto', value_name='Longitud')\n",
    "\n",
    "plt.figure(figsize=(8, 5))\n",
    "sns.boxplot(data=df_longitudes_by_bi_melted, x='Conjunto', y='Longitud')\n",
    "plt.title('Longitudes de intersección – BY-BI')\n",
    "plt.grid(True)\n",
    "plt.show()"
   ]
  },
  {
   "cell_type": "code",
   "execution_count": 42,
   "metadata": {
    "colab": {
     "base_uri": "https://localhost:8080/",
     "height": 0
    },
    "id": "t1wKwGj221zC",
    "outputId": "b274c499-50bd-4c00-be24-4d622073ea36"
   },
   "outputs": [
    {
     "name": "stdout",
     "output_type": "stream",
     "text": [
      "Primeras 5 longitudes BY-B2 B: [6, 7, 16, 4, 1]\n",
      "Primeros 5 tiempos BY-B2 B (s): [0.0004489421844482422, 0.0004200935363769531, 0.0006105899810791016, 0.0002453327178955078, 0.0002167224884033203]\n"
     ]
    }
   ],
   "source": [
    "# Aplicar BY-B2 al conjunto B (faltante)\n",
    "tiempos_BY_B2_B = []\n",
    "longitudes_BY_B2_B = []\n",
    "\n",
    "for tripleta in B:\n",
    "    inicio = time.time()\n",
    "    resultado = interseccion_by_b2(tripleta)\n",
    "    fin = time.time()\n",
    "\n",
    "    tiempos_BY_B2_B.append(fin - inicio)\n",
    "    longitudes_BY_B2_B.append(len(resultado))\n",
    "\n",
    "# Confirmación rápida\n",
    "print(\"Primeras 5 longitudes BY-B2 B:\", longitudes_BY_B2_B[:5])\n",
    "print(\"Primeros 5 tiempos BY-B2 B (s):\", tiempos_BY_B2_B[:5])"
   ]
  },
  {
   "cell_type": "code",
   "execution_count": 43,
   "metadata": {
    "colab": {
     "base_uri": "https://localhost:8080/",
     "height": 488
    },
    "id": "K2ALWHxQ1I11",
    "outputId": "69721d37-b968-406a-a58c-81524cca1c2a"
   },
   "outputs": [
    {
     "data": {
      "image/png": "[encoded data removed]",
      "text/plain": [
       "<Figure size 800x500 with 1 Axes>"
      ]
     },
     "metadata": {},
     "output_type": "display_data"
    }
   ],
   "source": [
    "df_tiempos_by_b2 = pd.DataFrame({\n",
    "    'A': tiempos_BY_B2_A,\n",
    "    'B': tiempos_BY_B2_B,\n",
    "    'C': tiempos_BY_B2_C\n",
    "})\n",
    "\n",
    "df_tiempos_by_b2_melted = df_tiempos_by_b2.melt(var_name='Conjunto', value_name='Tiempo (s)')\n",
    "\n",
    "plt.figure(figsize=(8, 5))\n",
    "sns.boxplot(data=df_tiempos_by_b2_melted, x='Conjunto', y='Tiempo (s)')\n",
    "plt.title('Tiempos de ejecución – BY-B2')\n",
    "plt.grid(True)\n",
    "plt.show()"
   ]
  },
  {
   "cell_type": "markdown",
   "metadata": {
    "id": "05yop5EH281D"
   },
   "source": [
    "Algoritmo Barbay-Kenyon (BK)\n"
   ]
  },
  {
   "cell_type": "markdown",
   "metadata": {
    "id": "__yKxo3U3AF9"
   },
   "source": [
    "El algoritmo Barbay & Kenyon (BK) está diseñado para intersectar múltiples listas ordenadas de forma eficiente, adaptándose al contenido de las listas en lugar de su tamaño solamente. Es una técnica adaptativa que avanza en paralelo por todas las listas, intentando mantener sincronizadas las posiciones de lectura en cada una."
   ]
  },
  {
   "cell_type": "code",
   "execution_count": 44,
   "metadata": {
    "id": "9h1VVMEd3ECX"
   },
   "outputs": [],
   "source": [
    "def interseccion_barbay_kenyon(listas):\n",
    "    \"\"\"\n",
    "    Algoritmo Barbay-Kenyon adaptativo para la intersección de múltiples listas ordenadas.\n",
    "    \"\"\"\n",
    "    if not listas:\n",
    "        return []\n",
    "\n",
    "\n",
    "    k = len(listas)\n",
    "    indices = [0] * k\n",
    "    resultado = []\n",
    "\n",
    "    while True:\n",
    "\n",
    "        elementos_actuales = []\n",
    "        for i in range(k):\n",
    "            if indices[i] < len(listas[i]):\n",
    "                elementos_actuales.append(listas[i][indices[i]])\n",
    "            else:\n",
    "                return resultado\n",
    "\n",
    "        max_val = max(elementos_actuales)\n",
    "        avanzados = False\n",
    "\n",
    "        for i in range(k):\n",
    "            while indices[i] < len(listas[i]) and listas[i][indices[i]] < max_val:\n",
    "                indices[i] += 1\n",
    "                avanzados = True\n",
    "            if indices[i] == len(listas[i]):\n",
    "                return resultado\n",
    "\n",
    "        if not avanzados:\n",
    "            # Todos están igualados\n",
    "            resultado.append(max_val)\n",
    "            for i in range(k):\n",
    "                indices[i] += 1"
   ]
  },
  {
   "cell_type": "markdown",
   "metadata": {
    "id": "326qCESY3G3L"
   },
   "source": [
    "Presentamos una prueba del algoritmo Barbay-Kenyon con el primer elemento del conjunto A para verificar su funcionamiento."
   ]
  },
  {
   "cell_type": "code",
   "execution_count": 45,
   "metadata": {
    "colab": {
     "base_uri": "https://localhost:8080/",
     "height": 0
    },
    "id": "F1A4UmiJ3IZD",
    "outputId": "84e3c4a9-caaa-45ef-be68-93ec881359aa"
   },
   "outputs": [
    {
     "name": "stdout",
     "output_type": "stream",
     "text": [
      "Resultado BK: [6323, 12498]\n",
      "Longitud: 2\n"
     ]
    }
   ],
   "source": [
    "resultado_BK = interseccion_barbay_kenyon(A[0])\n",
    "print(\"Resultado BK:\", resultado_BK)\n",
    "print(\"Longitud:\", len(resultado_BK))"
   ]
  },
  {
   "cell_type": "markdown",
   "metadata": {
    "id": "EIGGkUoH3vLF"
   },
   "source": [
    "Aplicación del algoritmo Barbay-Kenyon (BK) a los conjuntos A, B y C\n"
   ]
  },
  {
   "cell_type": "markdown",
   "metadata": {
    "id": "52OOmfd23xrx"
   },
   "source": [
    "En esta sección se evalúa el desempeño del algoritmo Barbay-Kenyon (BK) en los conjuntos A, B y C.\n",
    "\n",
    "Aquí mide el tiempo de ejecución y la longitud del resultado de la intersección para cada entrada, con el fin de compararlo con los algoritmos anteriores y analizar su eficiencia.\n"
   ]
  },
  {
   "cell_type": "code",
   "execution_count": 46,
   "metadata": {
    "colab": {
     "base_uri": "https://localhost:8080/",
     "height": 0
    },
    "id": "oc74WwQl39jH",
    "outputId": "671490ca-a7fe-4ec9-ee7a-8ae0372dca2e"
   },
   "outputs": [
    {
     "name": "stdout",
     "output_type": "stream",
     "text": [
      "Primeras 5 longitudes BK A: [2, 6, 1, 16, 5]\n",
      "Primeros 5 tiempos BK A (s): [0.0037260055541992188, 0.0007128715515136719, 0.0004825592041015625, 0.00083160400390625, 0.0006797313690185547]\n"
     ]
    }
   ],
   "source": [
    "tiempos_BK_A = []\n",
    "longitudes_BK_A = []\n",
    "\n",
    "for par in A:\n",
    "    inicio = time.time()\n",
    "    resultado = interseccion_barbay_kenyon(par)\n",
    "    fin = time.time()\n",
    "\n",
    "    tiempos_BK_A.append(fin - inicio)\n",
    "    longitudes_BK_A.append(len(resultado))\n",
    "\n",
    "print(\"Primeras 5 longitudes BK A:\", longitudes_BK_A[:5])\n",
    "print(\"Primeros 5 tiempos BK A (s):\", tiempos_BK_A[:5])"
   ]
  },
  {
   "cell_type": "code",
   "execution_count": 47,
   "metadata": {
    "colab": {
     "base_uri": "https://localhost:8080/",
     "height": 0
    },
    "id": "vtulshY24BHC",
    "outputId": "794e19a1-8b2d-498f-c3c8-02a2844f6b57"
   },
   "outputs": [
    {
     "name": "stdout",
     "output_type": "stream",
     "text": [
      "Primeras 5 longitudes BK B: [6, 7, 16, 4, 1]\n",
      "Primeros 5 tiempos BK B (s): [0.004738569259643555, 0.007204532623291016, 0.010801315307617188, 0.002797842025756836, 0.0033996105194091797]\n"
     ]
    }
   ],
   "source": [
    "tiempos_BK_B = []\n",
    "longitudes_BK_B = []\n",
    "\n",
    "for tripleta in B:\n",
    "    inicio = time.time()\n",
    "    resultado = interseccion_barbay_kenyon(tripleta)\n",
    "    fin = time.time()\n",
    "\n",
    "    tiempos_BK_B.append(fin - inicio)\n",
    "    longitudes_BK_B.append(len(resultado))\n",
    "\n",
    "print(\"Primeras 5 longitudes BK B:\", longitudes_BK_B[:5])\n",
    "print(\"Primeros 5 tiempos BK B (s):\", tiempos_BK_B[:5])"
   ]
  },
  {
   "cell_type": "code",
   "execution_count": 48,
   "metadata": {
    "colab": {
     "base_uri": "https://localhost:8080/",
     "height": 0
    },
    "id": "ZdxsXndC4D9t",
    "outputId": "cc316a39-d342-4328-e7dd-b150dcd82ce0"
   },
   "outputs": [
    {
     "name": "stdout",
     "output_type": "stream",
     "text": [
      "Primeras 5 longitudes BK C: [0, 2, 46, 3, 4]\n",
      "Primeros 5 tiempos BK C (s): [0.0032444000244140625, 0.004534721374511719, 0.01334071159362793, 0.0018057823181152344, 0.0012557506561279297]\n"
     ]
    }
   ],
   "source": [
    "tiempos_BK_C = []\n",
    "longitudes_BK_C = []\n",
    "\n",
    "for cuarteto in C:\n",
    "    inicio = time.time()\n",
    "    resultado = interseccion_barbay_kenyon(cuarteto)\n",
    "    fin = time.time()\n",
    "\n",
    "    tiempos_BK_C.append(fin - inicio)\n",
    "    longitudes_BK_C.append(len(resultado))\n",
    "\n",
    "print(\"Primeras 5 longitudes BK C:\", longitudes_BK_C[:5])\n",
    "print(\"Primeros 5 tiempos BK C (s):\", tiempos_BK_C[:5])"
   ]
  },
  {
   "cell_type": "markdown",
   "metadata": {
    "id": "3vNOqqop5aZf"
   },
   "source": [
    "Gráficos comparativos del algoritmo Barbay-Kenyon (BK)\n"
   ]
  },
  {
   "cell_type": "markdown",
   "metadata": {
    "id": "WCTQEWQm5c7R"
   },
   "source": [
    "A continuación presentamos los gráficos boxplot del algoritmo Barbay-Kenyon (BK) aplicados a los conjuntos A, B y C.\n",
    "\n",
    "Se comparan los tiempos de ejecución y las longitudes de las intersecciones, lo que permite evaluar su rendimiento y comportamiento frente a distintas condiciones de entrada.\n"
   ]
  },
  {
   "cell_type": "code",
   "execution_count": 49,
   "metadata": {
    "colab": {
     "base_uri": "https://localhost:8080/",
     "height": 488
    },
    "id": "AhSim9p-5gg0",
    "outputId": "a70f58ea-69d8-4d60-f2f6-6bd80dbe744d"
   },
   "outputs": [
    {
     "data": {
      "image/png": "[encoded data removed]",
      "text/plain": [
       "<Figure size 800x500 with 1 Axes>"
      ]
     },
     "metadata": {},
     "output_type": "display_data"
    }
   ],
   "source": [
    "df_tiempos_bk = pd.DataFrame({\n",
    "    'A': tiempos_BK_A,\n",
    "    'B': tiempos_BK_B,\n",
    "    'C': tiempos_BK_C\n",
    "})\n",
    "\n",
    "df_tiempos_bk_melted = df_tiempos_bk.melt(var_name='Conjunto', value_name='Tiempo (s)')\n",
    "\n",
    "plt.figure(figsize=(8, 5))\n",
    "sns.boxplot(data=df_tiempos_bk_melted, x='Conjunto', y='Tiempo (s)')\n",
    "plt.title('Tiempos de ejecución – Barbay-Kenyon')\n",
    "plt.grid(True)\n",
    "plt.show()"
   ]
  },
  {
   "cell_type": "code",
   "execution_count": 50,
   "metadata": {
    "colab": {
     "base_uri": "https://localhost:8080/",
     "height": 488
    },
    "id": "VaPv9Imk5jEr",
    "outputId": "b5c24fe8-ad69-4d14-fccd-4880e9330c54"
   },
   "outputs": [
    {
     "data": {
      "image/png": "[encoded data removed]",
      "text/plain": [
       "<Figure size 800x500 with 1 Axes>"
      ]
     },
     "metadata": {},
     "output_type": "display_data"
    }
   ],
   "source": [
    "df_longitudes_bk = pd.DataFrame({\n",
    "    'A': longitudes_BK_A,\n",
    "    'B': longitudes_BK_B,\n",
    "    'C': longitudes_BK_C\n",
    "})\n",
    "\n",
    "df_longitudes_bk_melted = df_longitudes_bk.melt(var_name='Conjunto', value_name='Longitud')\n",
    "\n",
    "plt.figure(figsize=(8, 5))\n",
    "sns.boxplot(data=df_longitudes_bk_melted, x='Conjunto', y='Longitud')\n",
    "plt.title('Longitudes de intersección – Barbay-Kenyon')\n",
    "plt.grid(True)\n",
    "plt.show()"
   ]
  },
  {
   "cell_type": "markdown",
   "metadata": {
    "id": "piLnf78M5rJF"
   },
   "source": [
    "Análisis y Discusión de Resultados\n"
   ]
  },
  {
   "cell_type": "markdown",
   "metadata": {
    "id": "-15BjxZb5v67"
   },
   "source": [
    "Durante esta práctica implementamos y evaluamos cinco algoritmos diferentes para resolver el problema de la intersección de listas ordenadas. A continuación se discutimos  el comportamiento observado de cada uno de ellos en función de los gráficos obtenidos.\n",
    "\n",
    "#### Comparación general\n",
    "\n",
    "- **ME (Melding)** nos mostró ser rápido para conjuntos con pocas listas (como A), pero su rendimiento disminuye ligeramente cuando aumenta la cantidad de listas (B y C). Su principal ventaja es la simplicidad.\n",
    "- **BY (Baeza-Yates)** fue más eficiente que ME en varios casos, especialmente en conjuntos más largos, debido a su uso de búsqueda binaria. Sin embargo, su versión base no aprovecha posición previa, por lo que puede repetir búsquedas innecesarias.\n",
    "- **BY-BI** nos mostró mejoras claras frente a BY, especialmente en los conjuntos más largos (C), donde el uso de posiciones previas en la búsqueda binaria redujo comparaciones y tiempo de ejecución.\n",
    "- **BY-B2** fue la versión menos eficiente en la mayoría de los casos, ya que repite todas las búsquedas sin optimización. Sirve como base de comparación para ver el impacto de usar o no acotamientos.\n",
    "- **BK (Barbay-Kenyon)** nos ofreció un rendimiento competitivo y estable, especialmente en conjuntos medianos y grandes. Su estrategia adaptativa evita muchas búsquedas innecesarias, sincronizando los punteros en las listas.\n",
    "\n",
    "#### Tiempo de ejecución\n",
    "\n",
    "- El tiempo fue menor en promedio para BK y BY-BI en conjuntos grandes.\n",
    "- ME fue rápido en conjuntos pequeños (A), pero más lento en B y C.\n",
    "- BY-B2 fue el más lento consistentemente.\n",
    "\n",
    "#### Longitud de intersección\n",
    "\n",
    "- Las longitudes fueron muy parecidas entre algoritmos, ya que el resultado lógico es el mismo; sin embargo, los algoritmos más eficientes lo lograron con menos operaciones.\n",
    "\n",
    "Como conclusión, el uso de algoritmos adaptativos como BK o variantes optimizadas como BY-BI puede mejorar considerablemente el rendimiento en problemas de intersección de listas ordenadas. La elección del algoritmo dependerá del número y tamaño de las listas, así como de los recursos disponibles.\n",
    "\n",
    "El análisis también permite identificar las ventajas prácticas de aplicar estrategias como la acotación de búsquedas o el avance sincronizado entre listas, lo que es valioso en escenarios reales como motores de búsqueda o recuperación de información.\n"
   ]
  },
  {
   "cell_type": "markdown",
   "metadata": {
    "id": "AoC2D0vV6hXv"
   },
   "source": [
    "Referencias\n"
   ]
  },
  {
   "cell_type": "markdown",
   "metadata": {
    "id": "q78Z6Exi6lGG"
   },
   "source": [
    "- Baeza-Yates, R., & Gonnet, G. H. (1996). Fast text searching. *ACM SIGIR Forum*, 30(1), 6-15.\n",
    "- Barbay, J., Kenyon, C., Munro, J. I., & Rao, S. S. (2006). Adaptive intersection and union of sorted sets. *European Symposium on Algorithms* (ESA).\n",
    "- Cormen, T. H., Leiserson, C. E., Rivest, R. L., & Stein, C. (2009). *Introduction to Algorithms* (3rd ed.). MIT Press.\n"
   ]
  },
  {
   "cell_type": "markdown",
   "id": "9014224c",
   "metadata": {},
   "source": [
    "## Conclusiones\n",
    "En esta práctica se observaron los comportamientos y rendimientos de distintos algoritmos o estructuras. Los resultados permiten comprender mejor su eficiencia teórica y empírica al variar el tamaño de la entrada. Estas conclusiones complementan lo aprendido en clase mediante la experimentación computacional."
   ]
  },
  {
   "cell_type": "markdown",
   "id": "82e340b3",
   "metadata": {},
   "source": [
    "## Referencias\n",
    "- Dasgupta, S., Papadimitriou, C. H., & Vazirani, U. V. (2006). *Algorithms*. McGraw-Hill.\n",
    "- Google Developers. (n.d.). *Google Colab documentation*. https://research.google.com/colaboratory/\n"
   ]
  }
 ],
 "metadata": {
  "colab": {
   "provenance": []
  },
  "kernelspec": {
   "display_name": "Python 3",
   "name": "python3"
  },
  "language_info": {
   "name": "python"
  }
 },
 "nbformat": 4,
 "nbformat_minor": 0
}
